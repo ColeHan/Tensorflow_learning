{
 "cells": [
  {
   "cell_type": "code",
   "execution_count": 1,
   "metadata": {},
   "outputs": [],
   "source": [
    "import tensorflow as tf\n",
    "import numpy as np"
   ]
  },
  {
   "cell_type": "code",
   "execution_count": 9,
   "metadata": {},
   "outputs": [
    {
     "name": "stdout",
     "output_type": "stream",
     "text": [
      "0 [22.165506, 49.782307]\n",
      "20 [-2.2185137, 1.4931022]\n",
      "40 [-1.1613647, 0.9034822]\n",
      "60 [-0.5862291, 0.5827204]\n",
      "80 [-0.27333406, 0.40821403]\n",
      "100 [-0.10310757, 0.31327617]\n",
      "120 [-0.010498036, 0.26162645]\n",
      "140 [0.039884977, 0.23352705]\n",
      "160 [0.0672952, 0.21823996]\n",
      "180 [0.082207374, 0.20992322]\n",
      "200 [0.090320155, 0.20539859]\n",
      "220 [0.09473382, 0.20293704]\n",
      "240 [0.097135, 0.20159785]\n",
      "260 [0.09844134, 0.20086928]\n",
      "280 [0.099152036, 0.20047292]\n",
      "300 [0.09953868, 0.20025729]\n",
      "320 [0.099749014, 0.20013998]\n",
      "340 [0.099863455, 0.20007615]\n",
      "360 [0.09992573, 0.20004143]\n",
      "380 [0.09995959, 0.20002253]\n",
      "400 [0.099978015, 0.20001227]\n"
     ]
    }
   ],
   "source": [
    "#generate 100 random value points\n",
    "x_data=np.random.rand(100)#a vector\n",
    "y_data=x_data*0.1+0.2\n",
    "\n",
    "# create a tf linear model, make b->0.1,k->0.2\n",
    "b=tf.Variable(100.)\n",
    "k=tf.Variable(50.)\n",
    "y=k*x_data+b\n",
    "\n",
    "#define a loss function\n",
    "loss= tf.reduce_mean(tf.square(y_data-y))\n",
    "#define GD optimizer\n",
    "optimizer=tf.train.GradientDescentOptimizer(0.2)\n",
    "\n",
    "#minimize loss function\n",
    "train=optimizer.minimize(loss)\n",
    "\n",
    "init=tf.global_variables_initializer()\n",
    "\n",
    "with tf.Session() as sess:\n",
    "    sess.run(init)\n",
    "    for step in range(401):\n",
    "        sess.run(train)\n",
    "        if step%20==0:\n",
    "            print(step,sess.run([k,b]))\n",
    "\n"
   ]
  }
 ],
 "metadata": {
  "kernelspec": {
   "display_name": "Python 3",
   "language": "python",
   "name": "python3"
  },
  "language_info": {
   "codemirror_mode": {
    "name": "ipython",
    "version": 3
   },
   "file_extension": ".py",
   "mimetype": "text/x-python",
   "name": "python",
   "nbconvert_exporter": "python",
   "pygments_lexer": "ipython3",
   "version": "3.5.6"
  }
 },
 "nbformat": 4,
 "nbformat_minor": 2
}
